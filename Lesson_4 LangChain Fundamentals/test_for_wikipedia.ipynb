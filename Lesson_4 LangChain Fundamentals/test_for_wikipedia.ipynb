{
 "cells": [
  {
   "cell_type": "code",
   "execution_count": 5,
   "id": "8c8d6b5d-34c2-449d-979d-c100f4105498",
   "metadata": {},
   "outputs": [],
   "source": [
    "from langchain_ollama import OllamaLLM"
   ]
  },
  {
   "cell_type": "code",
   "execution_count": 8,
   "id": "29aec282-d2b2-47d5-af67-38baebdf5e4d",
   "metadata": {},
   "outputs": [
    {
     "name": "stdout",
     "output_type": "stream",
     "text": [
      "NAME            ID              SIZE      MODIFIED     \n",
      "gemma3:12b      f4031aab637d    8.1 GB    2 months ago    \n",
      "gemma3:4b       a2af6cc3eb7f    3.3 GB    2 months ago    \n",
      "llava:latest    8dd30f6b0cb1    4.7 GB    2 months ago    \n"
     ]
    }
   ],
   "source": [
    "!ollama list"
   ]
  },
  {
   "cell_type": "code",
   "execution_count": 32,
   "id": "1eb763d2-411a-46a9-a69a-d2d4f22d2277",
   "metadata": {},
   "outputs": [
    {
     "name": "stdout",
     "output_type": "stream",
     "text": [
      "The capital of France is **Paris**. \n",
      "\n",
      "It’s a global center for art, fashion, gastronomy, and culture. 😊 \n",
      "\n",
      "Do you want to know anything more about Paris or France?\n"
     ]
    }
   ],
   "source": [
    "# Initialize the local model\n",
    "llm = OllamaLLM(model=\"gemma3:4b\")\n",
    "\n",
    "print(llm.invoke(\"capital of france?\"))"
   ]
  },
  {
   "cell_type": "code",
   "execution_count": null,
   "id": "b400d7e6-8c8c-48dc-81fb-9581a65a6d9c",
   "metadata": {},
   "outputs": [],
   "source": [
    "import wikipedia\n",
    "\n",
    "def get_wikipedia_summary(query: str) -> str:\n",
    "    try:\n",
    "        return wikipedia.summary(query, sentences=5)\n",
    "    except wikipedia.exceptions.DisambiguationError as e:\n",
    "        return f\"Too many results. Try one of these: {e.options[:5]}\"\n",
    "    except Exception as e:\n",
    "        return f\"Error: {str(e)}\"\n",
    "\n",
    "from langchain.prompts import PromptTemplate\n",
    "from langchain.chains import LLMChain\n",
    "\n",
    "template = \"\"\"\n",
    "You are a helpful AI assistant.\n",
    "Based on the following Wikipedia content, answer the user's question.\n",
    "\n",
    "Wikipedia content:\n",
    "{context}\n",
    "\n",
    "Question:\n",
    "{question}\n",
    "\n",
    "Answer:\n",
    "\"\"\"\n",
    "\n",
    "prompt = PromptTemplate(\n",
    "    input_variables=[\"context\", \"question\"],\n",
    "    template=template\n",
    ")\n",
    "\n",
    "chain = LLMChain(llm=llm, prompt=prompt)\n",
    "\n",
    "\n",
    "\n",
    "def wikipedia_qa(question: str):\n",
    "    context = get_wikipedia_summary(question)\n",
    "    answer = chain.run({\"context\": context, \"question\": question})\n",
    "    return answer\n",
    "\n",
    "\n",
    "while True:\n",
    "    q = input(\"Ask a question (or 'quit'): \")\n",
    "    if q.lower() == \"quit\":\n",
    "        break\n",
    "    print(\"Answer:\", wikipedia_qa(q))\n"
   ]
  },
  {
   "cell_type": "code",
   "execution_count": 115,
   "id": "9093f1ac-e68f-4994-a782-629c7b698a7f",
   "metadata": {},
   "outputs": [
    {
     "data": {
      "text/plain": [
       "'LOL, or lol, is an initialism for laughing out loud, and a popular element of Internet slang, which can be used to indicate amusement, irony, or double meanings. It was first used almost exclusively on Usenet, but has since become widespread in other forms of computer-mediated communication and even face-to-face communication. It is one of many initialisms for expressing bodily reactions, in particular laughter, as text, including initialisms for more emphatic expressions of laughter such as LMAO (\"laughing my ass off\") and ROFL or ROTFL (\"rolling on the floor laughing\").\\nIn 2003, the list of acronyms was said to \"grow by the month\", and they were collected along with emoticons and smileys into folk dictionaries that are circulated informally amongst users of Usenet, IRC, and other forms of (textual) computer-mediated communication. These initialisms are controversial, and several authors recommend against their use, either in general or in specific contexts such as business communications. The Oxford English Dictionary first listed LOL in March 2011.\\n\\n.'"
      ]
     },
     "execution_count": 115,
     "metadata": {},
     "output_type": "execute_result"
    }
   ],
   "source": [
    "wikipedia_search(\"lol\")"
   ]
  },
  {
   "cell_type": "code",
   "execution_count": 111,
   "id": "b11a8ee1-7029-43c3-a417-9bd0f1a65fba",
   "metadata": {},
   "outputs": [],
   "source": [
    "\n",
    "\n"
   ]
  },
  {
   "cell_type": "code",
   "execution_count": 52,
   "id": "ca764342-644e-4b22-94f7-4a7db66ea5cd",
   "metadata": {},
   "outputs": [
    {
     "name": "stdout",
     "output_type": "stream",
     "text": [
      "Error: Page id \"tell me about korean before it spotted\" does not match any pages. Try another id!\n"
     ]
    }
   ],
   "source": [
    "print(wikipedia_search('tell me about korea before it splitted'))"
   ]
  },
  {
   "cell_type": "code",
   "execution_count": 116,
   "id": "9c33642e-6d12-44ca-b9b7-71143868f955",
   "metadata": {},
   "outputs": [
    {
     "name": "stdout",
     "output_type": "stream",
     "text": [
      "Welcome to wikipedia QA bot. Type [\\exit , \\stop ,\\q , \\s] to stop the bot\n"
     ]
    },
    {
     "name": "stdout",
     "output_type": "stream",
     "text": [
      "Ask a question: lol\n"
     ]
    },
    {
     "name": "stdout",
     "output_type": "stream",
     "text": [
      "The question \"lol\" is an internet slang abbreviation for \"laugh out loud.\" \n",
      "\n",
      "\n"
     ]
    },
    {
     "name": "stdout",
     "output_type": "stream",
     "text": [
      "Ask a question: \\q\n"
     ]
    },
    {
     "name": "stdout",
     "output_type": "stream",
     "text": [
      "Goodbye! :) \n"
     ]
    }
   ],
   "source": [
    "# Initialize the local model\n",
    "from langchain.prompts import PromptTemplate\n",
    "from langchain.chains import LLMChain\n",
    "from langchain_ollama import OllamaLLM  # Or use OpenAI\n",
    "import wikipedia \n",
    "\n",
    "llm_ollama = OllamaLLM(model=\"gemma3:4b\")\n",
    "\n",
    "\n",
    "def wikipedia_search(query: str , num_sentences:int = 5) ->str:\n",
    "    \"\"\"\n",
    "    Docstring:   Searches wikipedia homepage given a word.\n",
    "    \n",
    "    args:\n",
    "        query (str): the query for wikipedia.\n",
    "        num_sentences  (int): number of output sentences.\n",
    "\n",
    "    returns:\n",
    "        result (str): the result from wikipedia.\n",
    "\n",
    "    \"\"\"\n",
    "    try:\n",
    "        most_close_query = wikipedia.search(query)[0]\n",
    "\n",
    "        summary = wikipedia.page(most_close_query , auto_suggest=False, redirect=True).summary\n",
    "        sentences = summary.split('. ')\n",
    "        return '. '.join(sentences[:num_sentences]) + '.'\n",
    "        #return summary\n",
    "        \n",
    "    except wikipedia.exceptions.DisambiguationError as e:\n",
    "        return f\"Too many results please choose from following topics: {e.options[0:6]}\" \n",
    "    except Exception as e:\n",
    "        return f\"Error: {str(e)}\"\n",
    "\n",
    "\n",
    "\n",
    "def ask_llm(question:str  ) -> str:\n",
    "    \"\"\"\n",
    "    This function will use ollama for converting the question into a valid wikipedia search keyword.\n",
    "\n",
    "    Args:\n",
    "        question (str): The entered question. \n",
    "    \n",
    "    Returns:\n",
    "        result (str): The valid wikipedia keyword\n",
    "    \"\"\"\n",
    "    prompt = PromptTemplate.from_template(\n",
    "        \"Given the following question, output only the most relevant Wikipedia search keyword or page title, and nothing else.\\n\\nQuestion: {question}\\n\\nKeyword:\"\n",
    "    )\n",
    "\n",
    "    chain = LLMChain(llm=llm_ollama, prompt=prompt)\n",
    "    return chain.run(question) \n",
    "\n",
    "def ask_llm_with_context(question:str , wikipedia_context:str) -> str:\n",
    "    \"\"\"\n",
    "    This function will take the question and context and will gives the answer to the question.\n",
    "\n",
    "    Args:\n",
    "        question (str): The entered question\n",
    "        context (str): The summary from wikipedia page\n",
    "    Returns:\n",
    "        result (str): The full answer to the question\n",
    "    \"\"\"\n",
    "\n",
    "    prompt = PromptTemplate.from_template(\n",
    "        \"You are a helpful assistant, answer the question based on context. \\n\\n Question: {question} \\n\\n Context: {context}\"\n",
    "    )\n",
    "    chain = LLMChain(llm = llm_ollama , prompt = prompt)\n",
    "    return chain.run({\"context\": wikipedia_context, \"question\": question})\n",
    "\n",
    "def run_bot(question):\n",
    "    \n",
    "    topic_for_wikipedia = ask_llm(question) \n",
    "    context = wikipedia_search(topic_for_wikipedia)\n",
    "    return ask_llm_with_context(question , context)\n",
    "\n",
    "if __name__ == \"__main__\":\n",
    "    print(r\"Welcome to wikipedia QA bot. Type [\\exit , \\stop ,\\q , \\s] to stop the bot\")\n",
    "    while(True):\n",
    "        question = str(input(\"Ask a question:\"))\n",
    "        if question.lower() in [r\"\\exit\", r\"\\stop\" , r\"\\stopp\" , r\"\\quit\" , r\"\\quitt\" , r\"\\q\"]: \n",
    "            print(\"Goodbye! :) \")\n",
    "            break\n",
    "\n",
    "        print(run_bot(question) , \"\\n\\n\")\n",
    "        "
   ]
  },
  {
   "cell_type": "code",
   "execution_count": 97,
   "id": "0da79e51-a2de-4aa1-bea4-1d423cb4034b",
   "metadata": {},
   "outputs": [
    {
     "data": {
      "text/plain": [
       "'Augusto José Ramón Pinochet Ugarte (25 November 1915 – 10 December 2006) was a Chilean military officer and politician who was the dictator of Chile from 1973 to 1990. From 1973 to 1981, he was the leader of the military junta, which in 1974 declared him President of the Republic and thus the dictator of Chile; in 1980, a referendum approved a new constitution confirming him in the office, after which he served as de jure president from 1981 to 1990. His time in office remains the longest of any Chilean ruler.\\nAugusto Pinochet rose through the ranks of the Chilean Army to become General Chief of Staff in early 1972 before being appointed its Commander-in-Chief on 23 August 1973 by President Salvador Allende. On 11 September 1973, \\nPinochet seized power in Chile in a military coup. The military had previously received financial and intelligence support from the United States, which favored the military coup that toppled Allende\\'s democratically elected left-wing Unidad Popular government and ended civilian rule. In December 1974, the ruling military junta appointed Pinochet Supreme Head of the nation by joint decree, although without the support of one of the coup\\'s instigators, Air Force General Gustavo Leigh.\\nAfter his rise to power, Pinochet persecuted leftists, socialists, and political critics, resulting in the executions of 1,200 to 3,200 people, the internment of as many as 80,000 people, and the torture of tens of thousands. According to the Chilean government, the number of executions and forced disappearances was at least 3,095. Operation Condor, a U.S.-supported terror operation focusing on South America, was founded at the behest of the Pinochet regime in late November 1975.\\nUnder the influence of the free market-oriented \"Chicago Boys\", Pinochet\\'s military government implemented economic liberalization following neoliberalism. This policy included currency stabilization, removal of tariff protections for local industry, the banning of trade unions, and privatization of social security and hundreds of state-owned enterprises. Some of the government properties were sold below market price to politically connected buyers, including Pinochet\\'s son-in-law Julio Ponce Lerou. The regime used censorship of entertainment as a way to reward supporters of the regime and punish opponents. These policies produced high economic growth and dramatically increased economic inequality. Departing from these policies, Pinochet\\'s government also caused the 1982 monetary crisis, and thus produced its devastating effects on the Chilean economy. Pinochet\\'s wealth grew considerably during his years in power through dozens of bank accounts secretly held abroad and holdings in real estate. He was later prosecuted for embezzlement, tax fraud, and kickbacks on arms deals.\\nPinochet\\'s 17-year rule was given a legal framework through a controversial 1980 plebiscite, which approved a new constitution drafted by a government-appointed commission. In a 1988 plebiscite, 56% voted against Pinochet\\'s continuing as president, which led to democratic elections for the presidency and Congress. After stepping down in 1990, Pinochet continued to serve as Commander-in-Chief of the Chilean Army until 10 March 1998, when he retired and became a senator-for-life in accordance with his 1980 Constitution. However, while in London in 1998 Pinochet was arrested under an international arrest warrant in connection with numerous human rights violations. Following a legal battle, he was released on grounds of ill-health and returned to Chile on 3 March 2000. In 2004, Chilean Judge Juan Guzmán Tapia ruled that Pinochet was medically fit to stand trial and placed him under house arrest. By the time of his death on 10 December 2006, about 300 criminal charges were still pending against him in Chile for numerous human rights violations during his 17-year rule, as well as tax evasion and embezzlement during and after his rule. He was also accused of having corruptly amassed at least US$28 million.'"
      ]
     },
     "execution_count": 97,
     "metadata": {},
     "output_type": "execute_result"
    }
   ],
   "source": [
    "query = wikipedia.search(\"Augusto Pinochet\")[0]\n",
    "\n",
    "wikipedia.page(query , auto_suggest=False, redirect=True).summary"
   ]
  },
  {
   "cell_type": "code",
   "execution_count": 103,
   "id": "453f7cf7-5790-4c29-8e48-2305c105a28c",
   "metadata": {},
   "outputs": [
    {
     "data": {
      "text/plain": [
       "\"Error: 'str' object is not callable\""
      ]
     },
     "execution_count": 103,
     "metadata": {},
     "output_type": "execute_result"
    }
   ],
   "source": [
    "wikipedia_search(\"Augusto Pinochet\")"
   ]
  },
  {
   "cell_type": "code",
   "execution_count": null,
   "id": "779989bb-4ee3-4d94-b04f-62470a9845b6",
   "metadata": {},
   "outputs": [],
   "source": []
  }
 ],
 "metadata": {
  "kernelspec": {
   "display_name": "Python 3 (ipykernel)",
   "language": "python",
   "name": "python3"
  },
  "language_info": {
   "codemirror_mode": {
    "name": "ipython",
    "version": 3
   },
   "file_extension": ".py",
   "mimetype": "text/x-python",
   "name": "python",
   "nbconvert_exporter": "python",
   "pygments_lexer": "ipython3",
   "version": "3.12.7"
  }
 },
 "nbformat": 4,
 "nbformat_minor": 5
}
