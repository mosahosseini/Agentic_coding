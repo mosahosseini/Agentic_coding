{
 "cells": [
  {
   "cell_type": "code",
   "execution_count": null,
   "id": "a0ecc501",
   "metadata": {},
   "outputs": [
    {
     "name": "stdout",
     "output_type": "stream",
     "text": [
      " * Serving Flask app '__main__'\n",
      " * Debug mode: on\n"
     ]
    },
    {
     "name": "stderr",
     "output_type": "stream",
     "text": [
      "WARNING: This is a development server. Do not use it in a production deployment. Use a production WSGI server instead.\n",
      " * Running on http://127.0.0.1:5000\n",
      "Press CTRL+C to quit\n",
      "127.0.0.1 - - [26/Jun/2025 02:27:23] \"GET / HTTP/1.1\" 200 -\n",
      "127.0.0.1 - - [26/Jun/2025 02:27:25] \"GET /gallery HTTP/1.1\" 200 -\n",
      "127.0.0.1 - - [26/Jun/2025 02:27:25] \"GET /static/images/image1.jpeg HTTP/1.1\" 304 -\n",
      "127.0.0.1 - - [26/Jun/2025 02:27:25] \"GET /static/images/image2.jpeg HTTP/1.1\" 304 -\n",
      "127.0.0.1 - - [26/Jun/2025 02:27:25] \"GET /static/images/image3.png HTTP/1.1\" 200 -\n",
      "127.0.0.1 - - [26/Jun/2025 02:27:28] \"GET /image/image3.png HTTP/1.1\" 200 -\n",
      "127.0.0.1 - - [26/Jun/2025 02:27:28] \"GET /static/images/image3.png HTTP/1.1\" 304 -\n",
      "127.0.0.1 - - [26/Jun/2025 02:27:45] \"GET /gallery HTTP/1.1\" 200 -\n",
      "127.0.0.1 - - [26/Jun/2025 02:27:45] \"GET /static/images/image1.jpeg HTTP/1.1\" 304 -\n",
      "127.0.0.1 - - [26/Jun/2025 02:27:45] \"GET /static/images/image2.jpeg HTTP/1.1\" 304 -\n",
      "127.0.0.1 - - [26/Jun/2025 02:27:45] \"GET /static/images/image3.png HTTP/1.1\" 304 -\n"
     ]
    }
   ],
   "source": [
    "from flask import Flask, render_template, url_for\n",
    "\n",
    "app = Flask(__name__)\n",
    "\n",
    "# Route for the homepage\n",
    "@app.route('/')\n",
    "def index():\n",
    "    return render_template('index.html')\n",
    "\n",
    "# Route for the image gallery page\n",
    "@app.route('/gallery')\n",
    "def gallery():\n",
    "    # In a real app, you might get image names from a database\n",
    "    images = [\n",
    "        {'name': 'image1.jpeg', 'title': 'Profile1'},\n",
    "        {'name': 'image2.jpeg', 'title': 'Profile2'} ,\n",
    "        {'name': 'image3.png', 'title': 'Profile3'} ,\n",
    "        \n",
    "    ]\n",
    "    return render_template('gallery.html', images=images)\n",
    "\n",
    "# Route for displaying a specific image on its own page\n",
    "@app.route('/image/<image_name>')\n",
    "def show_image(image_name):\n",
    "    # You might want to add validation here to ensure image_name exists\n",
    "    # and is allowed to prevent directory traversal attacks.\n",
    "    return render_template('image_detail.html', image_name=image_name)\n",
    "\n",
    "if __name__ == '__main__':\n",
    "    app.run(debug=True ,use_reloader=False)"
   ]
  },
  {
   "cell_type": "code",
   "execution_count": null,
   "id": "e5b19887",
   "metadata": {},
   "outputs": [],
   "source": [
    "\n"
   ]
  },
  {
   "cell_type": "code",
   "execution_count": null,
   "id": "f2202138",
   "metadata": {},
   "outputs": [],
   "source": []
  }
 ],
 "metadata": {
  "kernelspec": {
   "display_name": "base",
   "language": "python",
   "name": "python3"
  },
  "language_info": {
   "codemirror_mode": {
    "name": "ipython",
    "version": 3
   },
   "file_extension": ".py",
   "mimetype": "text/x-python",
   "name": "python",
   "nbconvert_exporter": "python",
   "pygments_lexer": "ipython3",
   "version": "3.12.7"
  }
 },
 "nbformat": 4,
 "nbformat_minor": 5
}
